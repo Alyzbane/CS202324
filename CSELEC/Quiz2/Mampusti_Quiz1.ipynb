{
 "cells": [
  {
   "cell_type": "code",
   "execution_count": 1,
   "id": "fc7a33f8",
   "metadata": {},
   "outputs": [
    {
     "name": "stdout",
     "output_type": "stream",
     "text": [
      "Requirement already satisfied: opencv-python in c:\\users\\temp.lab.013\\anaconda3\\lib\\site-packages (4.9.0.80)\n",
      "Requirement already satisfied: numpy>=1.17.0 in c:\\users\\temp.lab.013\\anaconda3\\lib\\site-packages (from opencv-python) (1.21.5)\n"
     ]
    }
   ],
   "source": [
    "! pip install opencv-python"
   ]
  },
  {
   "cell_type": "markdown",
   "id": "a497313a",
   "metadata": {},
   "source": [
    "# Step 1"
   ]
  },
  {
   "cell_type": "code",
   "execution_count": 2,
   "id": "748d75c6",
   "metadata": {},
   "outputs": [],
   "source": [
    "import os\n",
    "import cv2\n",
    "import numpy as np\n",
    "import matplotlib.pyplot as plt\n",
    "\n",
    "from sklearn.model_selection import train_test_split\n",
    "from sklearn.svm import SVC\n",
    "from sklearn.ensemble import RandomForestClassifier\n",
    "from sklearn.metrics import accuracy_score\n",
    "from skimage.transform import resize"
   ]
  },
  {
   "cell_type": "code",
   "execution_count": 3,
   "id": "9571314c",
   "metadata": {},
   "outputs": [],
   "source": [
    "def create_folders(src, labels):\n",
    "    os.makedirs(src, exist_ok=True)\n",
    "    for i in labels:\n",
    "        out = os.path.join(src, i)\n",
    "        os.makedirs(out, exist_ok=True)"
   ]
  },
  {
   "cell_type": "markdown",
   "id": "839c335b",
   "metadata": {},
   "source": [
    "# Step 2 Image Resizing"
   ]
  },
  {
   "cell_type": "code",
   "execution_count": 4,
   "id": "b518cb74",
   "metadata": {},
   "outputs": [],
   "source": [
    "def resizing_images(dataset, output_path):\n",
    "    IMG_SIZE = (223, 223)\n",
    "    for label, path in zip(dataset['labels'], dataset['paths']):\n",
    "        class_path = os.path.join(output_path, label)\n",
    "\n",
    "        image = cv2.imread(path)\n",
    "\n",
    "        if image.shape != IMG_SIZE: # Verify the image is uniformed\n",
    "            image = cv2.resize(image, IMG_SIZE)\n",
    "\n",
    "        # Slice the string for filename\n",
    "        start = path.rfind('\\\\')  # Windows path separator\n",
    "        end = path.rfind ('.')  # Before the extension\n",
    "\n",
    "        filename = path[start + 1 : end] + \".jpg\"\n",
    "        out = os.path.join(output_path, label, filename)\n",
    "        cv2.imwrite(out, image)\n",
    "        print(f\"Saved preprocess image {out}\\n\")"
   ]
  },
  {
   "cell_type": "markdown",
   "id": "af66a2d9",
   "metadata": {},
   "source": [
    "# Step 3: Create a Pre-process using HOGDescriptor() also include grayscale before applying HOGDescriptor()."
   ]
  },
  {
   "cell_type": "code",
   "execution_count": 5,
   "id": "1f0c98a8",
   "metadata": {},
   "outputs": [],
   "source": [
    "def extract_features(image):\n",
    "    gray = cv2.cvtColor(image, cv2.COLOR_BGR2GRAY)\n",
    "    hog = cv2.HOGDescriptor()\n",
    "    features = hog.compute(gray)\n",
    "    return features.flatten()"
   ]
  },
  {
   "cell_type": "markdown",
   "id": "f12ef526",
   "metadata": {},
   "source": [
    "# Step 4:  Create a function that loads an image from set directory."
   ]
  },
  {
   "cell_type": "code",
   "execution_count": 6,
   "id": "d8b46b70",
   "metadata": {},
   "outputs": [],
   "source": [
    "def load_images_from_directory(src):\n",
    "    \"\"\"\n",
    "    Step 4 Load Images from directory\n",
    "    \"\"\"\n",
    "    dataset = dict()\n",
    "    dataset['labels'] = [] \n",
    "    dataset['images'] = []\n",
    "    dataset['paths'] = []\n",
    "\n",
    "    # Read the specified  datasets of images in each subfolder with\n",
    "    # their respective labels\n",
    "    for root, subdir, files in os.walk(src):\n",
    "        for class_name in subdir: \n",
    "            class_dir = os.path.join(root, class_name) \n",
    "            for filename in os.listdir(class_dir): \n",
    "                img_path = os.path.join(class_dir, filename)\n",
    "                image = cv2.imread(img_path)\n",
    "                if image is not None:\n",
    "                    dataset['images'].append(image)\n",
    "                    dataset['labels'].append(class_name)\n",
    "                    dataset['paths'].append(img_path)   \n",
    "    return dataset"
   ]
  },
  {
   "cell_type": "markdown",
   "id": "d83b4a97",
   "metadata": {},
   "source": [
    "# Step 5: Create a Visualization function for class distribution"
   ]
  },
  {
   "cell_type": "code",
   "execution_count": 7,
   "id": "22dc8352",
   "metadata": {},
   "outputs": [],
   "source": [
    "def visualize_class_distribution(labels, class_names):\n",
    "    class_counts = {class_name: labels.count(class_name) for class_name in set(class_names)}\n",
    "    plt.bar(class_counts.keys(), class_counts.values())\n",
    "    plt.xlabel('Class')\n",
    "    plt.ylabel('Count')\n",
    "    plt.title('Class Distribution')\n",
    "    plt.show()\n",
    "    total_samples = sum(class_counts.values())\n",
    "    for class_name, count in class_counts.items():\n",
    "        percentage = (count / total_samples) * 100\n",
    "        print(f'{class_name}: {count} samples ({percentage:.2f}%)')"
   ]
  },
  {
   "cell_type": "markdown",
   "id": "372f29eb",
   "metadata": {},
   "source": [
    "# Step 6: Declare Directory path"
   ]
  },
  {
   "cell_type": "code",
   "execution_count": 8,
   "id": "73a28ed7",
   "metadata": {},
   "outputs": [],
   "source": [
    "path = r\"C:\\Users\\TEMP.LAB.013\\Downloads\\Tree\""
   ]
  },
  {
   "cell_type": "markdown",
   "id": "33f7654b",
   "metadata": {},
   "source": [
    "# Step 7 : Declare images, labels, class_names using the load image function."
   ]
  },
  {
   "cell_type": "code",
   "execution_count": 9,
   "id": "74f63dff",
   "metadata": {},
   "outputs": [],
   "source": [
    "dataset = load_images_from_directory(path) # Loading Images from directory"
   ]
  },
  {
   "cell_type": "code",
   "execution_count": 10,
   "id": "108d426a",
   "metadata": {},
   "outputs": [
    {
     "name": "stdout",
     "output_type": "stream",
     "text": [
      "Saved preprocess image .\\output\\2nd Tree\\photo_2024-03-21_08-32-54 (2).jpg\n",
      "\n",
      "Saved preprocess image .\\output\\2nd Tree\\photo_2024-03-21_08-32-54 (3).jpg\n",
      "\n",
      "Saved preprocess image .\\output\\2nd Tree\\photo_2024-03-21_08-32-54.jpg\n",
      "\n",
      "Saved preprocess image .\\output\\2nd Tree\\photo_2024-03-21_08-32-55 (2).jpg\n",
      "\n",
      "Saved preprocess image .\\output\\2nd Tree\\photo_2024-03-21_08-32-55 (3).jpg\n",
      "\n",
      "Saved preprocess image .\\output\\2nd Tree\\photo_2024-03-21_08-32-55 (4).jpg\n",
      "\n",
      "Saved preprocess image .\\output\\2nd Tree\\photo_2024-03-21_08-32-55 (5).jpg\n",
      "\n",
      "Saved preprocess image .\\output\\2nd Tree\\photo_2024-03-21_08-32-55 (6).jpg\n",
      "\n",
      "Saved preprocess image .\\output\\2nd Tree\\photo_2024-03-21_08-32-55 (7).jpg\n",
      "\n",
      "Saved preprocess image .\\output\\2nd Tree\\photo_2024-03-21_08-32-55.jpg\n",
      "\n",
      "Saved preprocess image .\\output\\2nd Tree\\photo_2024-03-21_08-32-56.jpg\n",
      "\n",
      "Saved preprocess image .\\output\\3rd Tree\\photo_2024-03-21_08-33-11.jpg\n",
      "\n",
      "Saved preprocess image .\\output\\3rd Tree\\photo_2024-03-21_08-33-12 (2).jpg\n",
      "\n",
      "Saved preprocess image .\\output\\3rd Tree\\photo_2024-03-21_08-33-12 (3).jpg\n",
      "\n",
      "Saved preprocess image .\\output\\3rd Tree\\photo_2024-03-21_08-33-12 (4).jpg\n",
      "\n",
      "Saved preprocess image .\\output\\3rd Tree\\photo_2024-03-21_08-33-12.jpg\n",
      "\n",
      "Saved preprocess image .\\output\\3rd Tree\\photo_2024-03-21_08-33-13 (2).jpg\n",
      "\n",
      "Saved preprocess image .\\output\\3rd Tree\\photo_2024-03-21_08-33-13.jpg\n",
      "\n",
      "Saved preprocess image .\\output\\3rd Tree\\photo_2024-03-21_08-36-54.jpg\n",
      "\n",
      "Saved preprocess image .\\output\\3rd Tree\\photo_2024-03-21_08-37-00.jpg\n",
      "\n",
      "Saved preprocess image .\\output\\3rd Tree\\photo_2024-03-21_08-37-04.jpg\n",
      "\n",
      "Saved preprocess image .\\output\\5th tree\\photo_2024-03-21_08-32-38 (2).jpg\n",
      "\n",
      "Saved preprocess image .\\output\\5th tree\\photo_2024-03-21_08-32-38 (3).jpg\n",
      "\n",
      "Saved preprocess image .\\output\\5th tree\\photo_2024-03-21_08-32-38 (4).jpg\n",
      "\n",
      "Saved preprocess image .\\output\\5th tree\\photo_2024-03-21_08-32-38.jpg\n",
      "\n",
      "Saved preprocess image .\\output\\5th tree\\photo_2024-03-21_08-32-39 (2).jpg\n",
      "\n",
      "Saved preprocess image .\\output\\5th tree\\photo_2024-03-21_08-32-39 (3).jpg\n",
      "\n",
      "Saved preprocess image .\\output\\5th tree\\photo_2024-03-21_08-32-39 (4).jpg\n",
      "\n",
      "Saved preprocess image .\\output\\5th tree\\photo_2024-03-21_08-32-39 (5).jpg\n",
      "\n",
      "Saved preprocess image .\\output\\5th tree\\photo_2024-03-21_08-32-39 (6).jpg\n",
      "\n",
      "Saved preprocess image .\\output\\5th tree\\photo_2024-03-21_08-32-39.jpg\n",
      "\n",
      "Saved preprocess image .\\output\\6th Tree\\photo_2024-03-21_08-32-22 (2).jpg\n",
      "\n",
      "Saved preprocess image .\\output\\6th Tree\\photo_2024-03-21_08-32-22 (3).jpg\n",
      "\n",
      "Saved preprocess image .\\output\\6th Tree\\photo_2024-03-21_08-32-22.jpg\n",
      "\n",
      "Saved preprocess image .\\output\\6th Tree\\photo_2024-03-21_08-32-23 (2).jpg\n",
      "\n",
      "Saved preprocess image .\\output\\6th Tree\\photo_2024-03-21_08-32-23 (3).jpg\n",
      "\n",
      "Saved preprocess image .\\output\\6th Tree\\photo_2024-03-21_08-32-23 (4).jpg\n",
      "\n",
      "Saved preprocess image .\\output\\6th Tree\\photo_2024-03-21_08-32-23.jpg\n",
      "\n",
      "Saved preprocess image .\\output\\6th Tree\\photo_2024-03-21_08-32-24 (2).jpg\n",
      "\n",
      "Saved preprocess image .\\output\\6th Tree\\photo_2024-03-21_08-32-24 (3).jpg\n",
      "\n",
      "Saved preprocess image .\\output\\6th Tree\\photo_2024-03-21_08-32-24.jpg\n",
      "\n"
     ]
    }
   ],
   "source": [
    "output_path = r'.\\output' # \n",
    "create_folders(output_path, dataset['labels']) # Creating the Folders for resize images\n",
    "rsdataset = resizing_images(dataset, output_path)"
   ]
  },
  {
   "cell_type": "code",
   "execution_count": 11,
   "id": "0ecf1025",
   "metadata": {},
   "outputs": [],
   "source": [
    "dataset = load_images_from_directory(output_path) # Loading Resize Images from directory"
   ]
  },
  {
   "cell_type": "code",
   "execution_count": 12,
   "id": "3d104d10",
   "metadata": {},
   "outputs": [
    {
     "data": {
      "text/plain": [
       "(223, 223, 3)"
      ]
     },
     "execution_count": 12,
     "metadata": {},
     "output_type": "execute_result"
    }
   ],
   "source": [
    "# The size of image in dataset\n",
    "dataset['images'][0].shape"
   ]
  },
  {
   "cell_type": "markdown",
   "id": "a11f5c84",
   "metadata": {},
   "source": [
    "# Step 8 : Use the Class visualization function"
   ]
  },
  {
   "cell_type": "code",
   "execution_count": 13,
   "id": "a01f7e16",
   "metadata": {
    "scrolled": true
   },
   "outputs": [
    {
     "data": {
      "image/png": "[encoded data removed]",
      "text/plain": [
       "<Figure size 432x288 with 1 Axes>"
      ]
     },
     "metadata": {
      "needs_background": "light"
     },
     "output_type": "display_data"
    },
    {
     "name": "stdout",
     "output_type": "stream",
     "text": [
      "3rd Tree: 10 samples (24.39%)\n",
      "5th tree: 10 samples (24.39%)\n",
      "2nd Tree: 11 samples (26.83%)\n",
      "6th Tree: 10 samples (24.39%)\n"
     ]
    }
   ],
   "source": [
    "# Visualize The Dataset\n",
    "visualize_class_distribution(dataset['labels'], dataset['labels'])"
   ]
  },
  {
   "cell_type": "markdown",
   "id": "be631db4",
   "metadata": {},
   "source": [
    "# Step 9 : Use the extract feature extraction function."
   ]
  },
  {
   "cell_type": "code",
   "execution_count": 14,
   "id": "90f785e7",
   "metadata": {},
   "outputs": [],
   "source": [
    "features = np.array([extract_features(img) for img in dataset['images']])"
   ]
  },
  {
   "cell_type": "code",
   "execution_count": 15,
   "id": "5d7a85b9",
   "metadata": {
    "scrolled": true
   },
   "outputs": [],
   "source": [
    "X_train,X_test,y_train, y_test = train_test_split(features, dataset['labels'], test_size = 0.2, random_state=42) # Step 10"
   ]
  },
  {
   "cell_type": "code",
   "execution_count": 16,
   "id": "8f647989",
   "metadata": {},
   "outputs": [],
   "source": [
    "# Step 11: Declare the SVM and Random forest Classifier.\n",
    "svm_classifier = SVC(kernel='linear')"
   ]
  },
  {
   "cell_type": "code",
   "execution_count": 17,
   "id": "1e4290d7",
   "metadata": {},
   "outputs": [
    {
     "data": {
      "text/plain": [
       "SVC(kernel='linear')"
      ]
     },
     "execution_count": 17,
     "metadata": {},
     "output_type": "execute_result"
    }
   ],
   "source": [
    "svm_classifier.fit(X_train, y_train)"
   ]
  },
  {
   "cell_type": "code",
   "execution_count": 18,
   "id": "fe6f4916",
   "metadata": {},
   "outputs": [
    {
     "data": {
      "text/plain": [
       "RandomForestClassifier()"
      ]
     },
     "execution_count": 18,
     "metadata": {},
     "output_type": "execute_result"
    }
   ],
   "source": [
    "# Step 12: Fit the models on the declared variables for SVM and Random forest Classifier.\n",
    "rfc = RandomForestClassifier(n_estimators=100)\n",
    "rfc.fit(X_train, y_train)"
   ]
  },
  {
   "cell_type": "code",
   "execution_count": 19,
   "id": "54f5dda3",
   "metadata": {},
   "outputs": [],
   "source": [
    "y_pred_svm = svm_classifier.predict(X_test)\n",
    "y_pred_rfc = rfc.predict(X_test)"
   ]
  },
  {
   "cell_type": "markdown",
   "id": "d9499528",
   "metadata": {},
   "source": [
    "# Step 12: Fit the models on the declared variables for SVM and Random forest Classifier."
   ]
  },
  {
   "cell_type": "code",
   "execution_count": 20,
   "id": "3e3ca77c",
   "metadata": {},
   "outputs": [
    {
     "name": "stdout",
     "output_type": "stream",
     "text": [
      "SVM accuracy score: 44.44444444444444\n"
     ]
    }
   ],
   "source": [
    "accuracy_svm = accuracy_score(y_test, y_pred_svm)\n",
    "print(\"SVM accuracy score:\", accuracy_svm * 100)"
   ]
  },
  {
   "cell_type": "code",
   "execution_count": 21,
   "id": "ef7a132f",
   "metadata": {},
   "outputs": [
    {
     "name": "stdout",
     "output_type": "stream",
     "text": [
      "Random Forest Classifier Accuracy: 0.5555555555555556\n"
     ]
    }
   ],
   "source": [
    "accuracy_rf = accuracy_score(y_test, y_pred_rfc)\n",
    "print(\"Random Forest Classifier Accuracy:\", accuracy_rf)"
   ]
  },
  {
   "cell_type": "markdown",
   "id": "d4cf2567",
   "metadata": {},
   "source": [
    "# Step 14: Create some model testing include some individual testing."
   ]
  },
  {
   "cell_type": "code",
   "execution_count": 22,
   "id": "574a65b9",
   "metadata": {},
   "outputs": [
    {
     "name": "stdout",
     "output_type": "stream",
     "text": [
      "SVM PRED: 3rd Tree\n",
      "RFC PRED: 3rd Tree\n",
      "GROUND TRUTH: 2nd Tree\n"
     ]
    }
   ],
   "source": [
    "input_image = cv2.imread('istock.jpg', cv2.COLOR_BGR2GRAY)\n",
    "input_label = '2nd Tree'\n",
    "input_image = cv2.resize(input_image, (223, 223))\n",
    "if input_image is not None:\n",
    "    input_features = extract_features(input_image).reshape(1,-1)\n",
    "    svm_pred = svm_classifier.predict(input_features)[0]\n",
    "    rfc_pred = rfc.predict(input_features)[0]\n",
    "    # Display the input image\n",
    "    print(\"SVM PRED:\", svm_pred)\n",
    "    print(\"RFC PRED:\", rfc_pred)\n",
    "    print(\"GROUND TRUTH:\", input_label)\n",
    "else:\n",
    "    print(\"Error unable to read input image\")"
   ]
  }
 ],
 "metadata": {
  "kernelspec": {
   "display_name": "Python 3 (ipykernel)",
   "language": "python",
   "name": "python3"
  },
  "language_info": {
   "codemirror_mode": {
    "name": "ipython",
    "version": 3
   },
   "file_extension": ".py",
   "mimetype": "text/x-python",
   "name": "python",
   "nbconvert_exporter": "python",
   "pygments_lexer": "ipython3",
   "version": "3.9.12"
  }
 },
 "nbformat": 4,
 "nbformat_minor": 5
}
