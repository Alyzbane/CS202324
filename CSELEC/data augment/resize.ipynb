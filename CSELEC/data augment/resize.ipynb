{
 "cells": [
  {
   "cell_type": "code",
   "execution_count": 48,
   "id": "adb87166",
   "metadata": {},
   "outputs": [
    {
     "name": "stdout",
     "output_type": "stream",
     "text": [
      "Requirement already satisfied: tqdm in /usr/local/python/3.10.13/lib/python3.10/site-packages (4.66.2)\n",
      "Requirement already satisfied: pyarrow in /usr/local/python/3.10.13/lib/python3.10/site-packages (15.0.2)\n",
      "Requirement already satisfied: numpy<2,>=1.16.6 in /home/codespace/.local/lib/python3.10/site-packages (from pyarrow) (1.26.4)\n",
      "Requirement already satisfied: py7zr in /usr/local/python/3.10.13/lib/python3.10/site-packages (0.21.0)\n",
      "Requirement already satisfied: texttable in /usr/local/python/3.10.13/lib/python3.10/site-packages (from py7zr) (1.7.0)\n",
      "Requirement already satisfied: pycryptodomex>=3.16.0 in /usr/local/python/3.10.13/lib/python3.10/site-packages (from py7zr) (3.20.0)\n",
      "Requirement already satisfied: pyzstd>=0.15.9 in /usr/local/python/3.10.13/lib/python3.10/site-packages (from py7zr) (0.15.9)\n",
      "Requirement already satisfied: pyppmd<1.2.0,>=1.1.0 in /usr/local/python/3.10.13/lib/python3.10/site-packages (from py7zr) (1.1.0)\n",
      "Requirement already satisfied: pybcj<1.1.0,>=1.0.0 in /usr/local/python/3.10.13/lib/python3.10/site-packages (from py7zr) (1.0.2)\n",
      "Requirement already satisfied: multivolumefile>=0.2.3 in /usr/local/python/3.10.13/lib/python3.10/site-packages (from py7zr) (0.2.3)\n",
      "Requirement already satisfied: inflate64<1.1.0,>=1.0.0 in /usr/local/python/3.10.13/lib/python3.10/site-packages (from py7zr) (1.0.0)\n",
      "Requirement already satisfied: brotli>=1.1.0 in /usr/local/python/3.10.13/lib/python3.10/site-packages (from py7zr) (1.1.0)\n",
      "Requirement already satisfied: psutil in /home/codespace/.local/lib/python3.10/site-packages (from py7zr) (5.9.8)\n",
      "Requirement already satisfied: ipywidgets in /usr/local/python/3.10.13/lib/python3.10/site-packages (8.1.2)\n",
      "Requirement already satisfied: comm>=0.1.3 in /home/codespace/.local/lib/python3.10/site-packages (from ipywidgets) (0.2.1)\n",
      "Requirement already satisfied: ipython>=6.1.0 in /home/codespace/.local/lib/python3.10/site-packages (from ipywidgets) (8.22.2)\n",
      "Requirement already satisfied: traitlets>=4.3.1 in /home/codespace/.local/lib/python3.10/site-packages (from ipywidgets) (5.14.1)\n",
      "Requirement already satisfied: widgetsnbextension~=4.0.10 in /usr/local/python/3.10.13/lib/python3.10/site-packages (from ipywidgets) (4.0.10)\n",
      "Requirement already satisfied: jupyterlab-widgets~=3.0.10 in /usr/local/python/3.10.13/lib/python3.10/site-packages (from ipywidgets) (3.0.10)\n",
      "Requirement already satisfied: decorator in /home/codespace/.local/lib/python3.10/site-packages (from ipython>=6.1.0->ipywidgets) (5.1.1)\n",
      "Requirement already satisfied: jedi>=0.16 in /home/codespace/.local/lib/python3.10/site-packages (from ipython>=6.1.0->ipywidgets) (0.19.1)\n",
      "Requirement already satisfied: matplotlib-inline in /home/codespace/.local/lib/python3.10/site-packages (from ipython>=6.1.0->ipywidgets) (0.1.6)\n",
      "Requirement already satisfied: prompt-toolkit<3.1.0,>=3.0.41 in /home/codespace/.local/lib/python3.10/site-packages (from ipython>=6.1.0->ipywidgets) (3.0.43)\n",
      "Requirement already satisfied: pygments>=2.4.0 in /home/codespace/.local/lib/python3.10/site-packages (from ipython>=6.1.0->ipywidgets) (2.17.2)\n",
      "Requirement already satisfied: stack-data in /home/codespace/.local/lib/python3.10/site-packages (from ipython>=6.1.0->ipywidgets) (0.6.3)\n",
      "Requirement already satisfied: exceptiongroup in /home/codespace/.local/lib/python3.10/site-packages (from ipython>=6.1.0->ipywidgets) (1.2.0)\n",
      "Requirement already satisfied: pexpect>4.3 in /home/codespace/.local/lib/python3.10/site-packages (from ipython>=6.1.0->ipywidgets) (4.9.0)\n",
      "Requirement already satisfied: parso<0.9.0,>=0.8.3 in /home/codespace/.local/lib/python3.10/site-packages (from jedi>=0.16->ipython>=6.1.0->ipywidgets) (0.8.3)\n",
      "Requirement already satisfied: ptyprocess>=0.5 in /home/codespace/.local/lib/python3.10/site-packages (from pexpect>4.3->ipython>=6.1.0->ipywidgets) (0.7.0)\n",
      "Requirement already satisfied: wcwidth in /home/codespace/.local/lib/python3.10/site-packages (from prompt-toolkit<3.1.0,>=3.0.41->ipython>=6.1.0->ipywidgets) (0.2.13)\n",
      "Requirement already satisfied: executing>=1.2.0 in /home/codespace/.local/lib/python3.10/site-packages (from stack-data->ipython>=6.1.0->ipywidgets) (2.0.1)\n",
      "Requirement already satisfied: asttokens>=2.1.0 in /home/codespace/.local/lib/python3.10/site-packages (from stack-data->ipython>=6.1.0->ipywidgets) (2.4.1)\n",
      "Requirement already satisfied: pure-eval in /home/codespace/.local/lib/python3.10/site-packages (from stack-data->ipython>=6.1.0->ipywidgets) (0.2.2)\n",
      "Requirement already satisfied: six>=1.12.0 in /home/codespace/.local/lib/python3.10/site-packages (from asttokens>=2.1.0->stack-data->ipython>=6.1.0->ipywidgets) (1.16.0)\n"
     ]
    }
   ],
   "source": [
    "! pip install tqdm\n",
    "! pip install pyarrow\n",
    "! pip install py7zr\n",
    "! pip install ipywidgets\n",
    "\n"
   ]
  },
  {
   "cell_type": "code",
   "execution_count": 49,
   "id": "301cdda8",
   "metadata": {},
   "outputs": [],
   "source": [
    "import pandas as pd\n",
    "import os\n",
    "from PIL import Image\n",
    "import pandas as pd\n",
    "from tqdm.notebook import trange, tqdm"
   ]
  },
  {
   "cell_type": "markdown",
   "id": "eded18e0",
   "metadata": {},
   "source": [
    "# Utils\n"
   ]
  },
  {
   "cell_type": "code",
   "execution_count": 50,
   "id": "fb1f8443",
   "metadata": {},
   "outputs": [],
   "source": [
    "from time import sleep\n",
    "def progress(ln):\n",
    "    for i in tqdm(range(0, ln), bar_format=\"{l_bar}{bar}| {n_fmt}/{total_fmt} [{elapsed}]\"):\n",
    "        sleep(0.5)"
   ]
  },
  {
   "cell_type": "code",
   "execution_count": 51,
   "id": "43a05e37",
   "metadata": {},
   "outputs": [],
   "source": [
    "import base64\n",
    "from io import BytesIO\n",
    "\n",
    "#Convert Image to Bytes\n",
    "def img_2_bytes(image):\n",
    "    buff = BytesIO()\n",
    "    image.save(buff, format=\"JPEG\")\n",
    "#    img_str = base64.b64encode(buff.getvalue())\n",
    "    img_str = buff.getvalue()\n",
    "\n",
    "    return img_str\n",
    "\n",
    "# Convert Bytes to Image\n",
    "def bytes_2_img(data):\n",
    "#    buff = BytesIO(base64.b64decode(data))\n",
    "    buff = BytesIO(data)\n",
    "\n",
    "    return Image.open(buff)"
   ]
  },
  {
   "cell_type": "code",
   "execution_count": 52,
   "id": "34013ded",
   "metadata": {},
   "outputs": [],
   "source": [
    "def load_images_from_directory(src):\n",
    "    TARGET_SIZE = (223, 223)\n",
    "\n",
    "    data = dict()\n",
    "    data['labels'] = []\n",
    "    data['images'] = []\n",
    "    data['resized'] = []\n",
    "    data['filename'] = []\n",
    "\n",
    "    for root, subdir, files in os.walk(src):\n",
    "        for class_name in subdir:\n",
    "            class_dir = os.path.join(root, class_name)\n",
    "            for filename in os.listdir(class_dir):\n",
    "                img_path = os.path.join(class_dir, filename)\n",
    "                with Image.open(img_path) as img:\n",
    "                    resized_img = img\n",
    "                    data['labels'].append(class_name)\n",
    "                    data['resized'].append(img_2_bytes(resized_img.resize(TARGET_SIZE, Image.Resampling.LANCZOS)))\n",
    "                    data['images'].append(img_2_bytes(img))\n",
    "                    data['filename'].append(filename)\n",
    "    return data"
   ]
  },
  {
   "cell_type": "markdown",
   "id": "000f1b31",
   "metadata": {},
   "source": [
    "# Main Program"
   ]
  },
  {
   "cell_type": "code",
   "execution_count": 53,
   "id": "a8b0ace0",
   "metadata": {},
   "outputs": [],
   "source": [
    "import py7zr\n",
    "with py7zr.SevenZipFile(\"FAITH-Bark.7z\", 'r') as archive:\n",
    "    archive.extractall(path=\".\")"
   ]
  },
  {
   "cell_type": "markdown",
   "id": "0940fba6",
   "metadata": {},
   "source": [
    "Creation of Resized Image"
   ]
  },
  {
   "cell_type": "code",
   "execution_count": 54,
   "id": "2c06b363",
   "metadata": {},
   "outputs": [],
   "source": [
    "directory   = fr'./FAITH-Bark/Tree'\n",
    "dataset = load_images_from_directory(directory)"
   ]
  },
  {
   "cell_type": "markdown",
   "id": "820962d3",
   "metadata": {},
   "source": [
    "Extract the dataframe of resized images along with original images"
   ]
  },
  {
   "cell_type": "code",
   "execution_count": 55,
   "id": "9ba276d9",
   "metadata": {},
   "outputs": [],
   "source": [
    "image_df = pd.DataFrame.from_dict(dataset, orient='index').transpose()\n",
    "os.makedirs(fr'./out', exist_ok=True)\n",
    "image_df.to_parquet(path= fr'./out/dataset.parquet')"
   ]
  },
  {
   "cell_type": "markdown",
   "id": "6be06b96",
   "metadata": {},
   "source": [
    "Extracting the image from dataframe explicitly from the known column name"
   ]
  },
  {
   "cell_type": "code",
   "execution_count": 56,
   "id": "75436bc8",
   "metadata": {},
   "outputs": [],
   "source": [
    "def extract_df_img(dataset, path):\n",
    "    path = path\n",
    "    subfolder_names = dataset['labels'].unique().tolist()\n",
    "    ds_len = len(dataset)\n",
    "   # progress(ds_len)\n",
    "    for i in range(ds_len):\n",
    "        decoded = bytes_2_img(dataset.loc[i, 'resized'])\n",
    "        # Access the subfolder names\n",
    "        if dataset.loc[i, 'labels'] in subfolder_names:\n",
    "            subfolder_name = dataset.loc[i, 'labels']\n",
    "            subfolder_path = os.path.join(path, subfolder_name)\n",
    "            os.makedirs(subfolder_path, exist_ok=True) # Create the subfolder from label\n",
    "            # Save the folder\n",
    "            decoded.save(os.path.join(subfolder_path, dataset.loc[i, 'filename']), format='JPEG')\n",
    "    \n",
    "    print(\"Success\")"
   ]
  },
  {
   "cell_type": "code",
   "execution_count": 57,
   "id": "244b3bf4",
   "metadata": {},
   "outputs": [
    {
     "name": "stdout",
     "output_type": "stream",
     "text": [
      "Success\n"
     ]
    }
   ],
   "source": [
    "PATH = fr'./output/Tree'\n",
    "extract_df_img(image_df, PATH)"
   ]
  },
  {
   "cell_type": "code",
   "execution_count": 1,
   "id": "831d1bc2",
   "metadata": {},
   "outputs": [
    {
     "data": {
      "text/plain": [
       "'/workspaces/CS202324/CSELEC/data augment/FAITHBark.zip'"
      ]
     },
     "execution_count": 1,
     "metadata": {},
     "output_type": "execute_result"
    }
   ],
   "source": [
    "import shutil\n",
    "\n",
    "# Specify the path to the folder you want to zip\n",
    "folder_to_zip = fr'./output/dataset'\n",
    "\n",
    "# Specify the name for the zip file\n",
    "zip_filename = 'FAITHBark'\n",
    "\n",
    "# Create the zip file\n",
    "shutil.make_archive(zip_filename, 'zip', folder_to_zip)"
   ]
  }
 ],
 "metadata": {
  "kernelspec": {
   "display_name": "Python 3 (ipykernel)",
   "language": "python",
   "name": "python3"
  },
  "language_info": {
   "codemirror_mode": {
    "name": "ipython",
    "version": 3
   },
   "file_extension": ".py",
   "mimetype": "text/x-python",
   "name": "python",
   "nbconvert_exporter": "python",
   "pygments_lexer": "ipython3",
   "version": "3.10.13"
  }
 },
 "nbformat": 4,
 "nbformat_minor": 5
}
