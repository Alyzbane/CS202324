{
 "cells": [
  {
   "cell_type": "code",
   "execution_count": 1,
   "id": "301cdda8",
   "metadata": {},
   "outputs": [
    {
     "ename": "ModuleNotFoundError",
     "evalue": "No module named 'tqdm'",
     "output_type": "error",
     "traceback": [
      "\u001b[0;31m---------------------------------------------------------------------------\u001b[0m",
      "\u001b[0;31mModuleNotFoundError\u001b[0m                       Traceback (most recent call last)",
      "\u001b[1;32m/workspaces/CS202324/CSELEC/data augment/resize.ipynb Cell 1\u001b[0m line \u001b[0;36m5\n\u001b[1;32m      <a href='vscode-notebook-cell://codespaces%2Bsuper-space-capybara-gp4g749v556fwrgw/workspaces/CS202324/CSELEC/data%20augment/resize.ipynb#W0sdnNjb2RlLXJlbW90ZQ%3D%3D?line=2'>3</a>\u001b[0m \u001b[39mfrom\u001b[39;00m \u001b[39mPIL\u001b[39;00m \u001b[39mimport\u001b[39;00m Image\n\u001b[1;32m      <a href='vscode-notebook-cell://codespaces%2Bsuper-space-capybara-gp4g749v556fwrgw/workspaces/CS202324/CSELEC/data%20augment/resize.ipynb#W0sdnNjb2RlLXJlbW90ZQ%3D%3D?line=3'>4</a>\u001b[0m \u001b[39mimport\u001b[39;00m \u001b[39mpandas\u001b[39;00m \u001b[39mas\u001b[39;00m \u001b[39mpd\u001b[39;00m\n\u001b[0;32m----> <a href='vscode-notebook-cell://codespaces%2Bsuper-space-capybara-gp4g749v556fwrgw/workspaces/CS202324/CSELEC/data%20augment/resize.ipynb#W0sdnNjb2RlLXJlbW90ZQ%3D%3D?line=4'>5</a>\u001b[0m \u001b[39mfrom\u001b[39;00m \u001b[39mtqdm\u001b[39;00m\u001b[39m.\u001b[39;00m\u001b[39mnotebook\u001b[39;00m \u001b[39mimport\u001b[39;00m trange, tqd\n",
      "\u001b[0;31mModuleNotFoundError\u001b[0m: No module named 'tqdm'"
     ]
    }
   ],
   "source": [
    "import pandas as pd\n",
    "import os\n",
    "from PIL import Image\n",
    "import pandas as pd\n",
    "from tqdm.notebook import trange, tqd"
   ]
  },
  {
   "cell_type": "code",
   "execution_count": null,
   "id": "43a05e37",
   "metadata": {},
   "outputs": [],
   "source": [
    "import base64\n",
    "from io import BytesIO\n",
    "\n",
    "#Convert Image to Bytes\n",
    "def img_2_bytes(image):\n",
    "    buff = BytesIO()\n",
    "    image.save(buff, format=\"JPEG\")\n",
    "#    img_str = base64.b64encode(buff.getvalue())\n",
    "    img_str = buff.getvalue()\n",
    "\n",
    "    return img_str\n",
    "\n",
    "# Convert Bytes to Image\n",
    "def bytes_2_img(data):\n",
    "#    buff = BytesIO(base64.b64decode(data))\n",
    "    buff = BytesIO(data)\n",
    "\n",
    "    return Image.open(buff"
   ]
  },
  {
   "cell_type": "code",
   "execution_count": null,
   "id": "34013ded",
   "metadata": {},
   "outputs": [],
   "source": [
    "def load_images_from_directory(src):\n",
    "    TARGET_SIZE = (223, 223)\n",
    "\n",
    "    data = dict()\n",
    "    data['labels'] = []\n",
    "    data['images'] = []\n",
    "    data['resized'] = []\n",
    "    data['filename'] = []\n",
    "\n",
    "    for root, subdir, files in os.walk(src):\n",
    "        for class_name in subdir:\n",
    "            class_dir = os.path.join(root, class_name)\n",
    "            for filename in os.listdir(class_dir):\n",
    "                img_path = os.path.join(class_dir, filename)\n",
    "                with Image.open(img_path) as img:\n",
    "                    resized_img = img\n",
    "                    data['labels'].append(class_name)\n",
    "                    data['resized'].append(img_2_bytes(resized_img.resize(TARGET_SIZE, Image.Resampling.LANCZOS)))\n",
    "                    data['images'].append(img_2_bytes(img))\n",
    "                    data['filename'].append(filename)\n",
    "    return data"
   ]
  },
  {
   "cell_type": "code",
   "execution_count": null,
   "id": "2c06b363",
   "metadata": {},
   "outputs": [],
   "source": [
    "directory   = fr'.\\FAITH-Bark\\Tree'\n",
    "dataset = load_images_from_directory(directory)"
   ]
  },
  {
   "cell_type": "code",
   "execution_count": null,
   "id": "d7cea64a",
   "metadata": {},
   "outputs": [],
   "source": [
    "import matplotlib.pyplot as plt"
   ]
  },
  {
   "cell_type": "code",
   "execution_count": null,
   "id": "e2e3f1fe",
   "metadata": {},
   "outputs": [],
   "source": [
    "def visualize(image, transform=None, x=200, y=200):\n",
    "    plt.figure(figsize=(x, y))\n",
    "    plt.axis('off')\n",
    "    plt.imshow(image)"
   ]
  },
  {
   "cell_type": "code",
   "execution_count": null,
   "id": "9ba276d9",
   "metadata": {},
   "outputs": [],
   "source": [
    "image_df = pd.DataFrame.from_dict(dataset, orient='index').transpose()\n",
    "os.makedirs(r'.\\out', exist_ok=True)\n",
    "image_df.to_parquet(path=r'.\\out/dataset.parquet')"
   ]
  },
  {
   "cell_type": "code",
   "execution_count": null,
   "id": "fb1f8443",
   "metadata": {},
   "outputs": [],
   "source": [
    "from time import sleep\n",
    "def progress(ln):\n",
    "    for i in tqdm(range(0, ln), bar_format=\"{l_bar}{bar}| {n_fmt}/{total_fmt} [{elapsed}]\"):\n",
    "        sleep(0.5"
   ]
  },
  {
   "cell_type": "markdown",
   "id": "6be06b96",
   "metadata": {},
   "source": [
    "Extracting the image from dataframe explicitly from the known column name"
   ]
  },
  {
   "cell_type": "code",
   "execution_count": null,
   "id": "75436bc8",
   "metadata": {},
   "outputs": [],
   "source": [
    "def extract_df_img(dataset, path):\n",
    "    path = path\n",
    "    subfolder_names = dataset['labels'].unique().tolist()\n",
    "    ds_len = len(dataset)\n",
    "    progress(ds_len)\n",
    "    for i in range(ds_len):\n",
    "        decoded = bytes_2_img(dataset.loc[i, 'resized'])\n",
    "        # Access the subfolder names\n",
    "        if dataset.loc[i, 'labels'] in subfolder_names:\n",
    "            subfolder_name = dataset.loc[i, 'labels']\n",
    "            subfolder_path = os.path.join(path, subfolder_name)\n",
    "            os.makedirs(subfolder_path, exist_ok=True) # Create the subfolder from label\n",
    "            # Save the folder\n",
    "            decoded.save(os.path.join(subfolder_path, dataset.loc[i, 'filename']), format='JPEG')\n",
    "    \n",
    "    print(\"Success\")"
   ]
  },
  {
   "cell_type": "code",
   "execution_count": null,
   "id": "244b3bf4",
   "metadata": {},
   "outputs": [],
   "source": [
    "PATH = '/out/Tree'\n",
    "extract_df_img(dataset, PATH)"
   ]
  },
  {
   "cell_type": "code",
   "execution_count": null,
   "id": "831d1bc2",
   "metadata": {},
   "outputs": [],
   "source": [
    "import shutil\n",
    "\n",
    "# Specify the path to the folder you want to zip\n",
    "folder_to_zip = '/content/out'\n",
    "\n",
    "# Specify the name for the zip file\n",
    "zip_filename = 'FAITHBark'\n",
    "\n",
    "# Create the zip file\n",
    "shutil.make_archive(zip_filename, 'zip', folder_to_zip)"
   ]
  }
 ],
 "metadata": {
  "kernelspec": {
   "display_name": "Python 3 (ipykernel)",
   "language": "python",
   "name": "python3"
  },
  "language_info": {
   "codemirror_mode": {
    "name": "ipython",
    "version": 3
   },
   "file_extension": ".py",
   "mimetype": "text/x-python",
   "name": "python",
   "nbconvert_exporter": "python",
   "pygments_lexer": "ipython3",
   "version": "3.10.13"
  }
 },
 "nbformat": 4,
 "nbformat_minor": 5
}
