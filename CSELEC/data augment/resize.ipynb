{
 "cells": [
  {
   "cell_type": "code",
   "execution_count": 1,
   "id": "301cdda8",
   "metadata": {},
   "outputs": [],
   "source": [
    "import os\n",
    "import cv2\n",
    "from PIL import Image\n",
    "import pandas as pd"
   ]
  },
  {
   "cell_type": "code",
   "execution_count": 2,
   "id": "43a05e37",
   "metadata": {},
   "outputs": [],
   "source": [
    "import base64\n",
    "from io import BytesIO\n",
    "\n",
    "def img_2_b64(image):\n",
    "    buff = BytesIO()\n",
    "    image.save(buff, format=\"JPEG\")\n",
    "#    img_str = base64.b64encode(buff.getvalue())\n",
    "    img_str = buff.getvalue()\n",
    "\n",
    "    return img_str\n",
    "\n",
    "# Convert Base64 to Image\n",
    "def b64_2_img(data):\n",
    "#    buff = BytesIO(base64.b64decode(data))\n",
    "    buff = BytesIO(data)\n",
    "\n",
    "    return Image.open(buff)"
   ]
  },
  {
   "cell_type": "code",
   "execution_count": 3,
   "id": "34013ded",
   "metadata": {},
   "outputs": [],
   "source": [
    "def load_images_from_directory(src):\n",
    "    TARGET_SIZE = (223, 223)\n",
    "\n",
    "    data = dict()\n",
    "    data['labels'] = []\n",
    "    data['images'] = []\n",
    "    data['resized'] = []\n",
    "    data['filename'] = []\n",
    "\n",
    "    for root, subdir, files in os.walk(src):\n",
    "        for class_name in subdir:\n",
    "            class_dir = os.path.join(root, class_name)\n",
    "            for filename in os.listdir(class_dir):\n",
    "                img_path = os.path.join(class_dir, filename)\n",
    "                with Image.open(img_path) as img:\n",
    "                    resized_img = img\n",
    "                    data['labels'].append(class_name)\n",
    "                    data['resized'].append(img_2_b64(resized_img.resize(TARGET_SIZE, Image.Resampling.LANCZOS)))\n",
    "                    data['images'].append(img_2_b64(img))\n",
    "                    data['filename'].append(filename)\n",
    "    return data"
   ]
  },
  {
   "cell_type": "code",
   "execution_count": 4,
   "id": "2c06b363",
   "metadata": {},
   "outputs": [],
   "source": [
    "directory   = fr'.\\FAITH-Bark\\Tree'\n",
    "dataset = load_images_from_directory(directory)"
   ]
  },
  {
   "cell_type": "code",
   "execution_count": 5,
   "id": "d7cea64a",
   "metadata": {},
   "outputs": [],
   "source": [
    "import matplotlib.pyplot as plt"
   ]
  },
  {
   "cell_type": "code",
   "execution_count": 6,
   "id": "e2e3f1fe",
   "metadata": {},
   "outputs": [],
   "source": [
    "def visualize(image, transform=None, x=200, y=200):\n",
    "    plt.figure(figsize=(x, y))\n",
    "    plt.axis('off')\n",
    "    plt.imshow(image)"
   ]
  },
  {
   "cell_type": "code",
   "execution_count": 8,
   "id": "9ba276d9",
   "metadata": {},
   "outputs": [],
   "source": [
    "image_df = pd.DataFrame.from_dict(dataset, orient='index').transpose()\n",
    "os.makedirs(r'.\\out', exist_ok=True)\n",
    "image_df.to_parquet(path=r'.\\out/dataset.parquet')"
   ]
  }
 ],
 "metadata": {
  "kernelspec": {
   "display_name": "Python 3 (ipykernel)",
   "language": "python",
   "name": "python3"
  },
  "language_info": {
   "codemirror_mode": {
    "name": "ipython",
    "version": 3
   },
   "file_extension": ".py",
   "mimetype": "text/x-python",
   "name": "python",
   "nbconvert_exporter": "python",
   "pygments_lexer": "ipython3",
   "version": "3.12.2"
  }
 },
 "nbformat": 4,
 "nbformat_minor": 5
}
